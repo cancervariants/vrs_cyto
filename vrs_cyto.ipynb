{
 "cells": [
  {
   "cell_type": "markdown",
   "id": "235fc1bb-bb93-4cc9-bfc7-fd2e245d8dae",
   "metadata": {},
   "source": [
    "# VRS Cyto\n",
    "An analysis of the [The Atlas of Genetics and Cytogenetics in Oncology and Haematology](https://atlasgeneticsoncology.org/) resource using VRS data structures."
   ]
  },
  {
   "cell_type": "markdown",
   "id": "e5d44013-481a-4c59-bcae-d18ed9b629a8",
   "metadata": {},
   "source": [
    "## Load the Atlas v1 dataset\n",
    "The original analysis was done prior to the February 2022 release of the Atlas v2.0 resource, which breaks the original web scraping script. The new interface requires additional parsing libraries to handle the site javascript. As before, the Atlas provides no API for programmatic access.\n",
    "\n",
    "This section loads data from the original v1 interface analysis, from which transform operations are performed to align the content with the most recent updates to the GA4GH VRS application."
   ]
  },
  {
   "cell_type": "code",
   "execution_count": null,
   "id": "c6a9d8a7-0c99-4624-a859-5d229b05847e",
   "metadata": {},
   "outputs": [],
   "source": []
  }
 ],
 "metadata": {
  "kernelspec": {
   "display_name": "Python 3 (ipykernel)",
   "language": "python",
   "name": "python3"
  },
  "language_info": {
   "codemirror_mode": {
    "name": "ipython",
    "version": 3
   },
   "file_extension": ".py",
   "mimetype": "text/x-python",
   "name": "python",
   "nbconvert_exporter": "python",
   "pygments_lexer": "ipython3",
   "version": "3.8.12"
  }
 },
 "nbformat": 4,
 "nbformat_minor": 5
}
