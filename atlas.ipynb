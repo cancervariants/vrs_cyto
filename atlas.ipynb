{
 "cells": [
  {
   "cell_type": "markdown",
   "metadata": {},
   "source": [
    "# Atlas of Genetics and Cytogenetics in Oncology and Haematology"
   ]
  },
  {
   "cell_type": "code",
   "execution_count": 1,
   "metadata": {},
   "outputs": [],
   "source": [
    "import requests\n",
    "from bs4 import BeautifulSoup\n",
    "import re\n",
    "from typing import NamedTuple\n",
    "from collections import Counter\n",
    "from urllib.parse import urljoin\n",
    "import pickle"
   ]
  },
  {
   "cell_type": "markdown",
   "metadata": {},
   "source": [
    "## Pull tables"
   ]
  },
  {
   "cell_type": "code",
   "execution_count": 2,
   "metadata": {},
   "outputs": [],
   "source": [
    "chromosomes = [\n",
    "    'X', 'Y'\n",
    "] + list(range(1,23))\n",
    "url = 'http://atlasgeneticsoncology.org/Indexbychrom/idxa_X.html'"
   ]
  },
  {
   "cell_type": "raw",
   "metadata": {},
   "source": [
    "# scrape HTML\n",
    "chr_resp_objects = dict()\n",
    "\n",
    "for c in chromosomes:\n",
    "    url = f'http://atlasgeneticsoncology.org/Indexbychrom/idxa_{c}.html'\n",
    "    resp = requests.get(url)\n",
    "    resp.raise_for_status()\n",
    "    chr_resp_objects[c] = resp"
   ]
  },
  {
   "cell_type": "raw",
   "metadata": {},
   "source": [
    "# save responses\n",
    "with open('data/atlas_responses.pkl', 'wb') as f:\n",
    "    pickle.dump(chr_resp_objects, f, pickle.HIGHEST_PROTOCOL)"
   ]
  },
  {
   "cell_type": "code",
   "execution_count": 3,
   "metadata": {},
   "outputs": [],
   "source": [
    "# load responses\n",
    "with open('data/atlas_responses.pkl', 'rb') as f:\n",
    "    chr_resp_objects = pickle.load(f)"
   ]
  },
  {
   "cell_type": "markdown",
   "metadata": {},
   "source": [
    "## Tokenize text"
   ]
  },
  {
   "cell_type": "code",
   "execution_count": 4,
   "metadata": {},
   "outputs": [
    {
     "data": {
      "text/plain": [
       "<re.Match object; span=(0, 14), match='del(X)(p22p22)'>"
      ]
     },
     "execution_count": 4,
     "metadata": {},
     "output_type": "execute_result"
    }
   ],
   "source": [
    "band_chars = r'[pq][0-9.]+'\n",
    "chr_chars = r'[XY0-9]+'\n",
    "\n",
    "iscn_translocation_re = r't' +\\\n",
    "    f'\\((?P<chr1>{chr_chars});(?P<chr2>{chr_chars})\\)' +\\\n",
    "    f'\\((?P<band1>{band_chars});(?P<band2>{band_chars})\\)'\n",
    "\n",
    "gene_fusion_re = r'(?P<five_p_gene>\\w+|\\?)/(?P<three_p_gene>\\w+|\\?)'\n",
    "\n",
    "band_only_re = f'\\\\((?P<bo_chr>{chr_chars})(?P<bo_band>{band_chars})\\\\)'\n",
    "\n",
    "tissue_context_re = r'\\(((Bone)|(Kidney)|(Soft Tissue(s)?)|(Lung)|(Breast)|(Prostate))( tumors)?\\)'\n",
    "tissue_context_re2 = r'(solely )?in [\\w\\s]+'\n",
    "\n",
    "iscn_region_dup_re = r'dup' +\\\n",
    "    f'\\((?P<dup_chr>{chr_chars})\\)' +\\\n",
    "    f'\\((?P<dup_region_start>{band_chars})-?(?P<dup_region_stop>{band_chars})\\)'\n",
    "\n",
    "iscn_region_del_re = r'del' +\\\n",
    "    f'\\((?P<del_chr>{chr_chars})\\)' +\\\n",
    "    f'\\((?P<del_region_start>{band_chars})-?(?P<del_region_stop>{band_chars})\\)'\n",
    "\n",
    "chr_amp_re = r'\\+' + chr_chars\n",
    "\n",
    "token_specification = [\n",
    "    ('TRANSLOCATION', iscn_translocation_re),\n",
    "    ('GENE_FUSION', gene_fusion_re),\n",
    "    ('REGION_DUP', iscn_region_dup_re),\n",
    "    ('REGION_DEL', iscn_region_del_re),\n",
    "    ('CHR_AMP', chr_amp_re),\n",
    "    ('SKIP', r'[ \\t]+'),\n",
    "    ('BAND_ONLY', band_only_re),\n",
    "    ('TISSUE_CONTEXT', tissue_context_re),\n",
    "    ('TISSUE_CONTEXT_2', tissue_context_re2),\n",
    "    ('FAIL', r'.')\n",
    "]\n",
    "\n",
    "class Token(NamedTuple):\n",
    "    type: str\n",
    "    value: str\n",
    "    groupdict: dict\n",
    "\n",
    "def tokenize(string):\n",
    "    tokens = list()\n",
    "    tok_regex = '|'.join('(?P<%s>%s)' % pair for pair in token_specification)\n",
    "    \n",
    "    for mo in re.finditer(tok_regex, string, flags=re.IGNORECASE):\n",
    "        kind = mo.lastgroup\n",
    "        value = mo.group()\n",
    "        groupdict = {k:v for k, v in mo.groupdict().items() if v and k != kind}\n",
    "        if kind == 'SKIP':\n",
    "            continue\n",
    "        elif kind == 'FAIL':\n",
    "            raise RuntimeError(f'{value!r} unexpected.')\n",
    "        tokens.append(Token(kind, value, groupdict))\n",
    "    return tokens\n",
    "\n",
    "test_str = 'del(X)(p22p22) P2RY8/CRLF2'\n",
    "m = tokenize(test_str)\n",
    "re.match(iscn_region_del_re, 'del(X)(p22p22)')\n",
    "# re.compile(iscn_region_del_re).pattern\n",
    "# tokenize('t(X;1)(p22;p34) PTPRF/RPS6KA3')"
   ]
  },
  {
   "cell_type": "code",
   "execution_count": 5,
   "metadata": {},
   "outputs": [
    {
     "data": {
      "text/plain": [
       "[Token(type='REGION_DEL', value='del(X)(p22p22)', groupdict={'del_chr': 'X', 'del_region_start': 'p22', 'del_region_stop': 'p22'}),\n",
       " Token(type='GENE_FUSION', value='P2RY8/CRLF2', groupdict={'five_p_gene': 'P2RY8', 'three_p_gene': 'CRLF2'})]"
      ]
     },
     "execution_count": 5,
     "metadata": {},
     "output_type": "execute_result"
    }
   ],
   "source": [
    "m"
   ]
  },
  {
   "cell_type": "code",
   "execution_count": 6,
   "metadata": {},
   "outputs": [],
   "source": [
    "expected_headers = ['Annotated Leukemias', 'Other Leukemias', 'Annotated Tumors', 'Other Tumors']"
   ]
  },
  {
   "cell_type": "code",
   "execution_count": 7,
   "metadata": {},
   "outputs": [
    {
     "name": "stdout",
     "output_type": "stream",
     "text": [
      "Succeeded on 15068 of 15827 records (0.9520439754849308)).\n"
     ]
    }
   ],
   "source": [
    "c = Counter()\n",
    "matches = list()\n",
    "failures = list()\n",
    "\n",
    "for chromosome, r in chr_resp_objects.items():\n",
    "    s = BeautifulSoup(r.content, 'html.parser')\n",
    "    tables = s.find_all('table', class_='sortable')\n",
    "    for table in tables[:4]:\n",
    "        header = table.th.text.strip()\n",
    "        assert header in expected_headers\n",
    "        for data in table.find_all('td'):\n",
    "            href = data.a.attrs['href']\n",
    "            text = data.a.text\n",
    "            try:\n",
    "                tokens = tokenize(text)\n",
    "                k = ':'.join([header, 'match'])\n",
    "                matches.append({\n",
    "                    'input': text,\n",
    "                    'tokens': tokens,\n",
    "                    'url': urljoin(url, href),\n",
    "                    'annot_type': header,\n",
    "                })\n",
    "            except RuntimeError as e:\n",
    "                k = ':'.join([header, 'fail'])\n",
    "                failures.append(text)\n",
    "            c[k] += 1\n",
    "match = len(matches)\n",
    "failure = len(failures)\n",
    "                \n",
    "print(f'Succeeded on {match} of {match + failure} records ({match / (match + failure)})).')"
   ]
  },
  {
   "cell_type": "code",
   "execution_count": 8,
   "metadata": {},
   "outputs": [
    {
     "data": {
      "text/plain": [
       "{'input': 'del(X)(p22p22) P2RY8/CRLF2',\n",
       " 'tokens': [Token(type='REGION_DEL', value='del(X)(p22p22)', groupdict={'del_chr': 'X', 'del_region_start': 'p22', 'del_region_stop': 'p22'}),\n",
       "  Token(type='GENE_FUSION', value='P2RY8/CRLF2', groupdict={'five_p_gene': 'P2RY8', 'three_p_gene': 'CRLF2'})],\n",
       " 'url': 'http://atlasgeneticsoncology.org/Anomalies/delXp22PR2Y8-CRLF2ID1599.html',\n",
       " 'annot_type': 'Annotated Leukemias'}"
      ]
     },
     "execution_count": 8,
     "metadata": {},
     "output_type": "execute_result"
    }
   ],
   "source": [
    "matches[0]"
   ]
  },
  {
   "cell_type": "code",
   "execution_count": 9,
   "metadata": {},
   "outputs": [
    {
     "name": "stdout",
     "output_type": "stream",
     "text": [
      "Annotated Leukemias:fail: 308\n",
      "Annotated Leukemias:match: 927\n",
      "Annotated Tumors:fail: 210\n",
      "Annotated Tumors:match: 608\n",
      "Other Leukemias:fail: 104\n",
      "Other Leukemias:match: 1233\n",
      "Other Tumors:fail: 137\n",
      "Other Tumors:match: 12300\n",
      "15827\n",
      "95.2% success.\n"
     ]
    }
   ],
   "source": [
    "total = sum(c.values())\n",
    "fails = sum([v for k, v in c.items() if k.endswith('fail')])\n",
    "successes = total - fails\n",
    "for k in sorted(c):\n",
    "    print(f'{k}: {c[k]}')\n",
    "print(total)\n",
    "print(f'{successes / total * 100:.1f}% success.')"
   ]
  },
  {
   "cell_type": "markdown",
   "metadata": {},
   "source": [
    "## Construct locations and variants"
   ]
  },
  {
   "cell_type": "markdown",
   "metadata": {},
   "source": [
    "### First, from Atlas dataset"
   ]
  },
  {
   "cell_type": "code",
   "execution_count": 10,
   "metadata": {},
   "outputs": [],
   "source": [
    "from ga4gh.vr import models\n",
    "from ga4gh.core import ga4gh_identify, ga4gh_serialize\n",
    "import hashlib\n",
    "import sys\n",
    "import csv\n",
    "from copy import copy"
   ]
  },
  {
   "cell_type": "code",
   "execution_count": 11,
   "metadata": {},
   "outputs": [
    {
     "data": {
      "text/plain": [
       "Counter({('REGION_DEL', 'GENE_FUSION'): 65,\n",
       "         ('CHR_AMP', 'TISSUE_CONTEXT_2'): 3,\n",
       "         ('TRANSLOCATION', 'GENE_FUSION'): 10544,\n",
       "         ('TRANSLOCATION',): 98,\n",
       "         ('GENE_FUSION', 'BAND_ONLY'): 3686,\n",
       "         ('TRANSLOCATION', 'GENE_FUSION', 'TISSUE_CONTEXT'): 603,\n",
       "         ('REGION_DUP', 'TISSUE_CONTEXT_2'): 1,\n",
       "         ('TRANSLOCATION', 'TISSUE_CONTEXT_2'): 11,\n",
       "         ('REGION_DEL', 'GENE_FUSION', 'TISSUE_CONTEXT'): 3,\n",
       "         ('REGION_DUP', 'GENE_FUSION'): 26,\n",
       "         ('TRANSLOCATION', 'TISSUE_CONTEXT'): 2,\n",
       "         ('TRANSLOCATION', 'GENE_FUSION', 'TISSUE_CONTEXT_2'): 26})"
      ]
     },
     "execution_count": 11,
     "metadata": {},
     "output_type": "execute_result"
    }
   ],
   "source": [
    "keys = [tuple([token.type for token in match['tokens']]) for match in matches]\n",
    "Counter(keys)"
   ]
  },
  {
   "cell_type": "code",
   "execution_count": 12,
   "metadata": {},
   "outputs": [],
   "source": [
    "HGNC_PRIMARY = dict()\n",
    "HGNC_ALIAS = dict()\n",
    "\n",
    "with open('data/hgnc_table.tsv', 'r') as f:\n",
    "    reader = csv.DictReader(f, delimiter='\\t')\n",
    "    for record in reader:\n",
    "        v = record['HGNC ID'].lower()\n",
    "        k = record['Approved symbol']\n",
    "        HGNC_PRIMARY[k] = v\n",
    "        \n",
    "        previous_symbols = record['Previous symbols'].split(', ')\n",
    "        alias_symbols = record['Alias symbols'].split(', ')\n",
    "        for symbol in previous_symbols:\n",
    "            HGNC_ALIAS[symbol.strip(\"'\")] = v\n",
    "        for symbol in alias_symbols:\n",
    "            HGNC_ALIAS[symbol.strip(\"'\")] = v\n"
   ]
  },
  {
   "cell_type": "code",
   "execution_count": 61,
   "metadata": {},
   "outputs": [],
   "source": [
    "def vrs_hash(obj):\n",
    "    digest_size = 24\n",
    "    \n",
    "    blob = ga4gh_serialize(obj)\n",
    "    digest = hashlib.sha512(blob).digest()\n",
    "    tdigest_int = int.from_bytes(digest[:digest_size], byteorder=sys.byteorder)\n",
    "    return(tdigest_int)\n",
    "\n",
    "hash_models = [\n",
    "    models.ChromosomeLocation,\n",
    "    models.GeneLocation,\n",
    "    models.Allele,\n",
    "    models.LocationJunction,\n",
    "    models.RelativeAbundance,\n",
    "    models.VariationSet\n",
    "]\n",
    "\n",
    "for m in hash_models:\n",
    "    m.__hash__ = vrs_hash\n",
    "\n",
    "def construct_VRS_chromosome_location(chromosome, start, end):\n",
    "    interval = models.NamedInterval(start=start, end=end)\n",
    "    location = models.ChromosomeLocation(\n",
    "        species_id=\"taxonomy:9606\",\n",
    "        interval=interval,\n",
    "        chr=chromosome\n",
    "    )\n",
    "    return location\n",
    "\n",
    "\n",
    "def construct_VRS_gene_location(gene_symbol):\n",
    "    if gene_symbol == '?':\n",
    "        return None\n",
    "    gene_id = HGNC_PRIMARY.get(gene_symbol, None)\n",
    "    if gene_id is None:\n",
    "        gene_id = HGNC_ALIAS.get(gene_symbol, None)\n",
    "    if gene_id is None:\n",
    "        gene_id=f\"unidentified.symbol:{gene_symbol}\"\n",
    "    location = models.GeneLocation(\n",
    "        gene_id=gene_id,\n",
    "        interval=models.UndefinedInterval()\n",
    "    )\n",
    "    return location\n",
    "\n",
    "def fusion_to_gene_locations(fusion_token):\n",
    "    try:\n",
    "        locations = [\n",
    "            construct_VRS_gene_location( fusion_token.groupdict['five_p_gene'] ),\n",
    "            construct_VRS_gene_location( fusion_token.groupdict['three_p_gene'] ),\n",
    "        ]\n",
    "    except KeyError:\n",
    "        return []\n",
    "    return locations\n",
    "    \n",
    "def del_to_region_location(del_token):\n",
    "    l = construct_VRS_chromosome_location(\n",
    "        chromosome=del_token.groupdict['del_chr'],\n",
    "        start=del_token.groupdict['del_region_start'],\n",
    "        end=del_token.groupdict['del_region_stop']\n",
    "    )\n",
    "    return l\n",
    "\n",
    "def chr_amp_to_region_location(chr_amp_token):\n",
    "    v = chr_amp_token.value\n",
    "    interval = models.NamedInterval(start='pter', end='qter')\n",
    "    location = models.ChromosomeLocation(\n",
    "        species_id=\"taxonomy:9606\",\n",
    "        interval=interval,\n",
    "        chr=v[1:]\n",
    "    )\n",
    "    return location\n",
    "    \n",
    "def translocation_to_region_locations(trx_token):\n",
    "    locations = [(\n",
    "        construct_VRS_chromosome_location(\n",
    "            chromosome=trx_token.groupdict['chr1'],\n",
    "            start='pter',\n",
    "            end=trx_token.groupdict['band1']),\n",
    "        construct_VRS_chromosome_location(\n",
    "            chromosome=trx_token.groupdict['chr2'],\n",
    "            start=trx_token.groupdict['band2'],\n",
    "            end='qter')\n",
    "        ),(\n",
    "        construct_VRS_chromosome_location(\n",
    "            chromosome=trx_token.groupdict['chr2'],\n",
    "            start='pter',\n",
    "            end=trx_token.groupdict['band2']),\n",
    "        construct_VRS_chromosome_location(\n",
    "            chromosome=trx_token.groupdict['chr1'],\n",
    "            start=trx_token.groupdict['band1'],\n",
    "            end='qter')\n",
    "        )\n",
    "    ]\n",
    "    return locations\n",
    "\n",
    "def dup_to_region_location(dup_token):\n",
    "    location = construct_VRS_chromosome_location(\n",
    "        chromosome=dup_token.groupdict['dup_chr'],\n",
    "        start=dup_token.groupdict['dup_region_start'],\n",
    "        end=dup_token.groupdict['dup_region_stop']\n",
    "    )\n",
    "    return location\n",
    "\n",
    "def index_variant(variant, location, record, variant_index, record_index):\n",
    "    if location is None:\n",
    "        return\n",
    "    l = variant_index.get(location, [])\n",
    "    l.append(variant)\n",
    "    variant_index[location] = l\n",
    "    \n",
    "    l = record_index.get(variant, [])\n",
    "    l.append(record)\n",
    "    record_index[variant] = l"
   ]
  },
  {
   "cell_type": "code",
   "execution_count": 62,
   "metadata": {},
   "outputs": [],
   "source": [
    "atlas_variants = dict()\n",
    "atlas_records = dict()\n",
    "\n",
    "for match in matches:\n",
    "    for token in match['tokens']:\n",
    "        t = token.type\n",
    "        if t == 'GENE_FUSION':\n",
    "            genes = fusion_to_gene_locations(token)\n",
    "            if not genes:\n",
    "                continue\n",
    "            variant = models.LocationJunction(\n",
    "                left=genes[0],\n",
    "                right=genes[1]\n",
    "            )\n",
    "            index_variant(variant, genes[0], match, atlas_variants, atlas_records)\n",
    "            index_variant(variant, genes[1], match, atlas_variants, atlas_records)\n",
    "        elif t == 'REGION_DEL':\n",
    "            location = ( del_to_region_location(token) )\n",
    "            state = models.ChromosomeState(\n",
    "                molecularRegion=None\n",
    "            )\n",
    "            # Molecular Variant\n",
    "            variant = models.Allele(\n",
    "                location=location,\n",
    "                state=state\n",
    "            )\n",
    "            index_variant(variant, location, match, atlas_variants, atlas_records)\n",
    "            # Systemic Variant\n",
    "            state = models.AmbiguousState()\n",
    "            molecular_variation = models.Allele(\n",
    "                location=location,\n",
    "                state=state\n",
    "            )\n",
    "            variant = models.RelativeAbundance(\n",
    "                molecularVariation=molecular_variation,\n",
    "                relativeQuantity='less_than'\n",
    "            )\n",
    "            index_variant(variant, location, match, atlas_variants, atlas_records)\n",
    "        elif t == 'REGION_DUP':\n",
    "            location = ( dup_to_region_location(token) )\n",
    "            # Note: dups (insertions at the original chromosome location) are awkward due to the use of regions as locations.\n",
    "            #   e.g. how to differentiate insertion of Xq11-q44 at Xq11 with and without replacement of Xq11?\n",
    "            #   per ISCN 2016 convention (Section 9.2.9) insertions occur AT a band, no further specificity.\n",
    "            state = models.ChromosomeState(\n",
    "                molecularRegion=location\n",
    "            )\n",
    "            insertion_location=construct_VRS_chromosome_location(location.chr, location.interval.end, location.interval.end)\n",
    "            # Molecular Variant\n",
    "            variant = models.Allele(\n",
    "                location=insertion_location,\n",
    "                state=state\n",
    "            )\n",
    "            index_variant(variant, location, match, atlas_variants, atlas_records)\n",
    "            # Systemic Variant\n",
    "            state = models.AmbiguousState()\n",
    "            molecular_variation = models.Allele(\n",
    "                location=location,\n",
    "                state=state\n",
    "            )\n",
    "            variant = models.RelativeAbundance(\n",
    "                molecularVariation=molecular_variation,\n",
    "                relativeQuantity='greater_than'\n",
    "            )\n",
    "            index_variant(variant, location, match, atlas_variants, atlas_records)\n",
    "        elif t == 'CHR_AMP':\n",
    "            location = chr_amp_to_region_location(token)\n",
    "            state=models.AmbiguousState()\n",
    "            molecular_variation = models.Allele(\n",
    "                location=location,\n",
    "                state=state\n",
    "            )\n",
    "            variant = models.RelativeAbundance(\n",
    "                molecularVariation=molecular_variation,\n",
    "                relativeQuantity='greater_than'\n",
    "            )\n",
    "            index_variant(variant, location, match, atlas_variants, atlas_records)\n",
    "        elif t == 'TRANSLOCATION':\n",
    "            der1_regions, der2_regions = translocation_to_region_locations(token)\n",
    "            # First derived chromosome\n",
    "            der1 = models.LocationJunction(\n",
    "                left=der1_regions[0],\n",
    "                right=der1_regions[1]\n",
    "            )\n",
    "            # Second derived chromosome\n",
    "            der2 = models.LocationJunction(\n",
    "                left=der2_regions[0],\n",
    "                right=der2_regions[1]\n",
    "            )\n",
    "            # Using a VariationSet in lieu of an explicit class for a Molecular Profile\n",
    "            try:\n",
    "                assert hash(der1) != hash(der2)\n",
    "            except AssertionError:\n",
    "                # Example value that triggers this is t(X;X)(p22;p22). Not clear what is meant, skip.\n",
    "                continue\n",
    "            variant = models.VariationSet(\n",
    "                members=[der1, der2]\n",
    "            )\n",
    "            index_variant(variant, location, match, atlas_variants, atlas_records)\n",
    "        elif 'CONTEXT' in t:\n",
    "            continue # ignore context for now\n",
    "        elif t == 'BAND_ONLY':\n",
    "            continue # ignore band only as a variant\n",
    "        else:\n",
    "            raise NotImplementedError(f'Token type {t} not handled.')"
   ]
  },
  {
   "cell_type": "code",
   "execution_count": 63,
   "metadata": {},
   "outputs": [
    {
     "data": {
      "text/plain": [
       "8488"
      ]
     },
     "execution_count": 63,
     "metadata": {},
     "output_type": "execute_result"
    }
   ],
   "source": [
    "len(atlas_variants)"
   ]
  },
  {
   "cell_type": "code",
   "execution_count": 64,
   "metadata": {},
   "outputs": [
    {
     "data": {
      "text/plain": [
       "14213"
      ]
     },
     "execution_count": 64,
     "metadata": {},
     "output_type": "execute_result"
    }
   ],
   "source": [
    "len(atlas_records)"
   ]
  },
  {
   "cell_type": "markdown",
   "metadata": {},
   "source": [
    "### TODO: EXPORT Annotations and VRS index files\n",
    "\n",
    "Include `_meta` with license terms, dataset info, and VRS prototype disclaimer / info"
   ]
  },
  {
   "cell_type": "markdown",
   "metadata": {},
   "source": [
    "## Second, from Project GENIE\n",
    "\n",
    "v8.0 public, downloaded from SAGE: 10.7303/syn22228642\n",
    "\n",
    "### Fusions"
   ]
  },
  {
   "cell_type": "code",
   "execution_count": 82,
   "metadata": {},
   "outputs": [],
   "source": [
    "genie_fusion_samples = dict()\n",
    "genie_sample_fusions = dict()\n",
    "fusion_re = re.compile(r'(\\w+)-(\\w+) fusion')\n",
    "failed = set()\n",
    "evaluated = 0\n",
    "skipped = 0\n",
    "with open('data/genie_8_0_public/data_fusions.txt') as fusion_file:\n",
    "    fusion_reader = csv.DictReader(fusion_file, delimiter='\\t')\n",
    "    for record in fusion_reader:\n",
    "        evaluated += 1\n",
    "        m = fusion_re.match(record['Fusion'])\n",
    "        if m:\n",
    "            left, right = map(construct_VRS_gene_location, m.groups())\n",
    "            if not (left or right):\n",
    "                skipped += 1\n",
    "                continue\n",
    "            variant = models.LocationJunction(\n",
    "                left=left,\n",
    "                right=right\n",
    "            )\n",
    "            s = genie_fusion_samples.get(variant, set())\n",
    "            s.add(record['Tumor_Sample_Barcode'])\n",
    "            genie_fusion_samples[variant] = s\n",
    "            s = genie_sample_fusions.get(record['Tumor_Sample_Barcode'], set())\n",
    "            s.add(variant)\n",
    "            genie_sample_fusions[record['Tumor_Sample_Barcode']] = s\n",
    "        else:\n",
    "            skipped += 1"
   ]
  },
  {
   "cell_type": "code",
   "execution_count": 83,
   "metadata": {},
   "outputs": [
    {
     "name": "stdout",
     "output_type": "stream",
     "text": [
      "Intergenic, 2-partner fusions: 13686 (50.0% of records)\n",
      "Average fusions per sample: 1.15\n"
     ]
    }
   ],
   "source": [
    "print(f'Intergenic, 2-partner fusions: {evaluated - skipped} ({(evaluated - skipped)/evaluated*100:.1f}% of records)')\n",
    "print(f'Average fusions per sample: {sum(map(len, genie_sample_fusions.values())) / len(genie_sample_fusions):.2f}')"
   ]
  },
  {
   "cell_type": "code",
   "execution_count": 84,
   "metadata": {},
   "outputs": [],
   "source": [
    "matched_fusions = dict()\n",
    "for fusion in genie_fusion_samples:\n",
    "    matches = set()\n",
    "    if fusion.left:\n",
    "        for variant in atlas_variants.get(fusion.left, []):\n",
    "            if variant.type!=fusion.type:\n",
    "                continue\n",
    "            if variant.left != fusion.left:\n",
    "                continue\n",
    "            if variant.right is None or variant.right == fusion.right:\n",
    "                matches.add(variant)\n",
    "    if fusion.right:\n",
    "        for variant in atlas_variants.get(fusion.right, []):\n",
    "            if variant.type!=fusion.type:\n",
    "                continue\n",
    "            if variant.right != fusion.right:\n",
    "                continue\n",
    "            if variant.left is None or variant.left == fusion.left:\n",
    "                matches.add(variant)\n",
    "    if matches:\n",
    "        matched_fusions[fusion] = matches"
   ]
  },
  {
   "cell_type": "code",
   "execution_count": 104,
   "metadata": {},
   "outputs": [
    {
     "name": "stdout",
     "output_type": "stream",
     "text": [
      "245 of 4241 (5.8%) fusions with matches to Atlas.\n",
      "1186 of 5876 (20.2%) samples with fusion matches to Atlas.\n"
     ]
    }
   ],
   "source": [
    "print(f'{len(matched_fusions)} of {len(genie_fusion_samples)} ({len(matched_fusions) / len(genie_fusion_samples) * 100:.1f}%) fusions with matches to Atlas.')\n",
    "samples = len(genie_sample_fusions)\n",
    "matched_samples = set()\n",
    "for fusion in matched_fusions:\n",
    "    matched_samples.update(genie_fusion_samples[fusion])\n",
    "print(f'{len(matched_samples)} of {samples} ({len(matched_samples) / samples * 100:.1f}%) samples with fusion matches to Atlas.')"
   ]
  },
  {
   "cell_type": "code",
   "execution_count": 100,
   "metadata": {},
   "outputs": [
    {
     "data": {
      "text/plain": [
       "5876"
      ]
     },
     "execution_count": 100,
     "metadata": {},
     "output_type": "execute_result"
    }
   ],
   "source": [
    "matched_samples = set()\n",
    "for fusion in matched_fusions:\n",
    "    matched_samples.update(genie_fusion_samples[fusion])\n",
    "samples"
   ]
  },
  {
   "cell_type": "markdown",
   "metadata": {},
   "source": [
    "### Questions\n",
    "Which fusions are most frequently seen?"
   ]
  },
  {
   "cell_type": "markdown",
   "metadata": {},
   "source": [
    "### Copy Number\n",
    "\n",
    "For each gene-sample combination, a copy number level is specified:\n",
    "- \"-2\" is a deep loss, possibly a homozygous deletion\n",
    "- \"-1\" is a single-copy loss (heterozygous deletion)\n",
    "- \"0\" is diploid\n",
    "- \"1\" indicates a low-level gain\n",
    "- \"2\" is a high-level amplification."
   ]
  },
  {
   "cell_type": "code",
   "execution_count": null,
   "metadata": {},
   "outputs": [],
   "source": []
  }
 ],
 "metadata": {
  "kernelspec": {
   "display_name": "Python 3",
   "language": "python",
   "name": "python3"
  },
  "language_info": {
   "codemirror_mode": {
    "name": "ipython",
    "version": 3
   },
   "file_extension": ".py",
   "mimetype": "text/x-python",
   "name": "python",
   "nbconvert_exporter": "python",
   "pygments_lexer": "ipython3",
   "version": "3.8.3"
  }
 },
 "nbformat": 4,
 "nbformat_minor": 4
}
