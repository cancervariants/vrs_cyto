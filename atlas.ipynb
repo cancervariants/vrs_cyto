{
 "cells": [
  {
   "cell_type": "markdown",
   "metadata": {},
   "source": [
    "# Atlas of Genetics and Cytogenetics in Oncology and Haematology"
   ]
  },
  {
   "cell_type": "code",
   "execution_count": 1,
   "metadata": {},
   "outputs": [],
   "source": [
    "import requests\n",
    "from bs4 import BeautifulSoup\n",
    "import re\n",
    "from typing import NamedTuple\n",
    "from collections import Counter\n",
    "from urllib.parse import urljoin\n",
    "import pickle\n",
    "import json"
   ]
  },
  {
   "cell_type": "markdown",
   "metadata": {},
   "source": [
    "## Pull tables"
   ]
  },
  {
   "cell_type": "code",
   "execution_count": 2,
   "metadata": {},
   "outputs": [],
   "source": [
    "chromosomes = [\n",
    "    'X', 'Y'\n",
    "] + list(range(1,23))\n",
    "url = 'http://atlasgeneticsoncology.org/Indexbychrom/idxa_X.html'"
   ]
  },
  {
   "cell_type": "raw",
   "metadata": {},
   "source": [
    "# scrape HTML\n",
    "chr_resp_objects = dict()\n",
    "\n",
    "for c in chromosomes:\n",
    "    url = f'http://atlasgeneticsoncology.org/Indexbychrom/idxa_{c}.html'\n",
    "    resp = requests.get(url)\n",
    "    resp.raise_for_status()\n",
    "    chr_resp_objects[c] = resp"
   ]
  },
  {
   "cell_type": "raw",
   "metadata": {},
   "source": [
    "# save responses\n",
    "with open('data/atlas_responses.pkl', 'wb') as f:\n",
    "    pickle.dump(chr_resp_objects, f, pickle.HIGHEST_PROTOCOL)"
   ]
  },
  {
   "cell_type": "code",
   "execution_count": 3,
   "metadata": {},
   "outputs": [],
   "source": [
    "# load responses\n",
    "with open('data/atlas_responses.pkl', 'rb') as f:\n",
    "    chr_resp_objects = pickle.load(f)"
   ]
  },
  {
   "cell_type": "markdown",
   "metadata": {},
   "source": [
    "## Tokenize text"
   ]
  },
  {
   "cell_type": "code",
   "execution_count": 4,
   "metadata": {},
   "outputs": [
    {
     "data": {
      "text/plain": [
       "<re.Match object; span=(0, 14), match='del(X)(p22p22)'>"
      ]
     },
     "execution_count": 4,
     "metadata": {},
     "output_type": "execute_result"
    }
   ],
   "source": [
    "band_chars = r'[pq][0-9.]+'\n",
    "chr_chars = r'[XY0-9]+'\n",
    "\n",
    "iscn_translocation_re = r't' +\\\n",
    "    f'\\((?P<chr1>{chr_chars});(?P<chr2>{chr_chars})\\)' +\\\n",
    "    f'\\((?P<band1>{band_chars});(?P<band2>{band_chars})\\)'\n",
    "\n",
    "gene_fusion_re = r'(?P<five_p_gene>\\w+|\\?)/(?P<three_p_gene>\\w+|\\?)'\n",
    "\n",
    "band_only_re = f'\\\\((?P<bo_chr>{chr_chars})(?P<bo_band>{band_chars})\\\\)'\n",
    "\n",
    "tissue_context_re = r'\\(((Bone)|(Kidney)|(Soft Tissue(s)?)|(Lung)|(Breast)|(Prostate))( tumors)?\\)'\n",
    "tissue_context_re2 = r'(solely )?in [\\w\\s]+'\n",
    "\n",
    "iscn_region_dup_re = r'dup' +\\\n",
    "    f'\\((?P<dup_chr>{chr_chars})\\)' +\\\n",
    "    f'\\((?P<dup_region_start>{band_chars})-?(?P<dup_region_stop>{band_chars})\\)'\n",
    "\n",
    "iscn_region_del_re = r'del' +\\\n",
    "    f'\\((?P<del_chr>{chr_chars})\\)' +\\\n",
    "    f'\\((?P<del_region_start>{band_chars})-?(?P<del_region_stop>{band_chars})\\)'\n",
    "\n",
    "chr_amp_re = r'\\+' + chr_chars\n",
    "\n",
    "token_specification = [\n",
    "    ('TRANSLOCATION', iscn_translocation_re),\n",
    "    ('GENE_FUSION', gene_fusion_re),\n",
    "    ('REGION_DUP', iscn_region_dup_re),\n",
    "    ('REGION_DEL', iscn_region_del_re),\n",
    "    ('CHR_AMP', chr_amp_re),\n",
    "    ('SKIP', r'[ \\t]+'),\n",
    "    ('BAND_ONLY', band_only_re),\n",
    "    ('TISSUE_CONTEXT', tissue_context_re),\n",
    "    ('TISSUE_CONTEXT_2', tissue_context_re2),\n",
    "    ('FAIL', r'.')\n",
    "]\n",
    "\n",
    "class Token(NamedTuple):\n",
    "    type: str\n",
    "    value: str\n",
    "    groupdict: dict\n",
    "\n",
    "def tokenize(string):\n",
    "    tokens = list()\n",
    "    tok_regex = '|'.join('(?P<%s>%s)' % pair for pair in token_specification)\n",
    "    \n",
    "    for mo in re.finditer(tok_regex, string, flags=re.IGNORECASE):\n",
    "        kind = mo.lastgroup\n",
    "        value = mo.group()\n",
    "        groupdict = {k:v for k, v in mo.groupdict().items() if v and k != kind}\n",
    "        if kind == 'SKIP':\n",
    "            continue\n",
    "        elif kind == 'FAIL':\n",
    "            raise RuntimeError(f'{value!r} unexpected.')\n",
    "        tokens.append(Token(kind, value, groupdict))\n",
    "    return tokens\n",
    "\n",
    "test_str = 'del(X)(p22p22) P2RY8/CRLF2'\n",
    "m = tokenize(test_str)\n",
    "re.match(iscn_region_del_re, 'del(X)(p22p22)')\n",
    "# re.compile(iscn_region_del_re).pattern\n",
    "# tokenize('t(X;1)(p22;p34) PTPRF/RPS6KA3')"
   ]
  },
  {
   "cell_type": "code",
   "execution_count": 5,
   "metadata": {},
   "outputs": [
    {
     "data": {
      "text/plain": [
       "[Token(type='REGION_DEL', value='del(X)(p22p22)', groupdict={'del_chr': 'X', 'del_region_start': 'p22', 'del_region_stop': 'p22'}),\n",
       " Token(type='GENE_FUSION', value='P2RY8/CRLF2', groupdict={'five_p_gene': 'P2RY8', 'three_p_gene': 'CRLF2'})]"
      ]
     },
     "execution_count": 5,
     "metadata": {},
     "output_type": "execute_result"
    }
   ],
   "source": [
    "m"
   ]
  },
  {
   "cell_type": "code",
   "execution_count": 6,
   "metadata": {},
   "outputs": [],
   "source": [
    "expected_headers = ['Annotated Leukemias', 'Other Leukemias', 'Annotated Tumors', 'Other Tumors']"
   ]
  },
  {
   "cell_type": "code",
   "execution_count": 7,
   "metadata": {},
   "outputs": [
    {
     "name": "stdout",
     "output_type": "stream",
     "text": [
      "Succeeded on 10845 of 11349 records (0.9555908009516257)).\n"
     ]
    }
   ],
   "source": [
    "c = Counter()\n",
    "matches = list()\n",
    "observed_texts = set()\n",
    "failures = set()\n",
    "\n",
    "for chromosome, r in chr_resp_objects.items():\n",
    "    s = BeautifulSoup(r.content, 'html.parser')\n",
    "    tables = s.find_all('table', class_='sortable')\n",
    "    for table in tables[:4]:\n",
    "        header = table.th.text.strip()\n",
    "        assert header in expected_headers\n",
    "        for data in table.find_all('td'):\n",
    "            href = data.a.attrs['href']\n",
    "            text = data.a.text\n",
    "            t = ';'.join([href,text])\n",
    "            if t in observed_texts:\n",
    "                continue\n",
    "            else:\n",
    "                observed_texts.add(t)\n",
    "            try:\n",
    "                tokens = tokenize(text)\n",
    "                k = ':'.join([header, 'match'])\n",
    "                matches.append({\n",
    "                    'biomarker': text,\n",
    "                    'tokens': tokens,\n",
    "                    'url': urljoin(url, href),\n",
    "                    'annot_type': header,\n",
    "                })\n",
    "            except RuntimeError as e:\n",
    "                k = ':'.join([header, 'fail'])\n",
    "                failures.add(text)\n",
    "            c[k] += 1\n",
    "match = len(matches)\n",
    "failure = len(failures)\n",
    "total = len(observed_texts)\n",
    "                \n",
    "print(f'Succeeded on {match} of {total} records ({match / total})).')"
   ]
  },
  {
   "cell_type": "code",
   "execution_count": 8,
   "metadata": {},
   "outputs": [
    {
     "name": "stdout",
     "output_type": "stream",
     "text": [
      "Annotated Leukemias:fail: 220\n",
      "Annotated Leukemias:match: 486\n",
      "Annotated Tumors:fail: 107\n",
      "Annotated Tumors:match: 547\n",
      "Other Leukemias:fail: 69\n",
      "Other Leukemias:match: 756\n",
      "Other Tumors:fail: 108\n",
      "Other Tumors:match: 9056\n"
     ]
    }
   ],
   "source": [
    "total = sum(c.values())\n",
    "fails = sum([v for k, v in c.items() if k.endswith('fail')])\n",
    "successes = total - fails\n",
    "for k in sorted(c):\n",
    "    print(f'{k}: {c[k]}')"
   ]
  },
  {
   "cell_type": "markdown",
   "metadata": {},
   "source": [
    "## Construct locations and variants"
   ]
  },
  {
   "cell_type": "markdown",
   "metadata": {},
   "source": [
    "### First, from Atlas dataset"
   ]
  },
  {
   "cell_type": "code",
   "execution_count": 9,
   "metadata": {},
   "outputs": [],
   "source": [
    "from ga4gh.vr import models\n",
    "from ga4gh.core import ga4gh_identify, ga4gh_serialize\n",
    "import hashlib\n",
    "import sys\n",
    "import csv\n",
    "from copy import copy"
   ]
  },
  {
   "cell_type": "code",
   "execution_count": 10,
   "metadata": {},
   "outputs": [],
   "source": [
    "def vrs_hash(obj):\n",
    "    digest_size = 24\n",
    "    \n",
    "    blob = ga4gh_serialize(obj)\n",
    "    digest = hashlib.sha512(blob).digest()\n",
    "    tdigest_int = int.from_bytes(digest[:digest_size], byteorder=sys.byteorder)\n",
    "    return(tdigest_int)\n",
    "\n",
    "hash_models = [\n",
    "    models.ChromosomeLocation,\n",
    "    models.GeneLocation,\n",
    "    models.Allele,\n",
    "    models.LocationJunction,\n",
    "    models.RelativeAbundance,\n",
    "    models.VariationSet\n",
    "]\n",
    "\n",
    "def construct_VRS_chromosome_location(chromosome, start, end):\n",
    "    interval = models.NamedInterval(start=start, end=end)\n",
    "    location = models.ChromosomeLocation(\n",
    "        species_id=\"taxonomy:9606\",\n",
    "        interval=interval,\n",
    "        chr=chromosome\n",
    "    )\n",
    "    return location\n",
    "\n",
    "for m in hash_models:\n",
    "    m.__hash__ = vrs_hash"
   ]
  },
  {
   "cell_type": "code",
   "execution_count": 11,
   "metadata": {},
   "outputs": [],
   "source": [
    "HGNC_PRIMARY = dict()\n",
    "HGNC_ALIAS = dict()\n",
    "HGNC_CHR_LOC = dict()\n",
    "\n",
    "cband_re = re.compile(f'(?P<chr>{chr_chars})(?P<band>{band_chars})')\n",
    "\n",
    "with open('data/hgnc_table.txt', 'r') as f:\n",
    "    reader = csv.DictReader(f, delimiter='\\t')\n",
    "    for record in reader:\n",
    "        v = record['HGNC ID'].lower()\n",
    "        k = record['Approved symbol']\n",
    "        HGNC_PRIMARY[k] = v\n",
    "        \n",
    "        previous_symbols = record['Previous symbols'].split(', ')\n",
    "        alias_symbols = record['Alias symbols'].split(', ')\n",
    "        for symbol in previous_symbols:\n",
    "            HGNC_ALIAS[symbol.strip(\"'\")] = v\n",
    "        for symbol in alias_symbols:\n",
    "            HGNC_ALIAS[symbol.strip(\"'\")] = v\n",
    "        \n",
    "        m = cband_re.match(record['Chromosome'])\n",
    "        if m is None:\n",
    "            continue\n",
    "        d = m.groupdict()\n",
    "        HGNC_CHR_LOC[v] = construct_VRS_chromosome_location(\n",
    "            d['chr'], d['band'], d['band']\n",
    "        )\n"
   ]
  },
  {
   "cell_type": "code",
   "execution_count": 12,
   "metadata": {},
   "outputs": [],
   "source": [
    "def construct_VRS_gene_location(gene_symbol):\n",
    "    if gene_symbol == '?':\n",
    "        return None\n",
    "    gene_id = HGNC_PRIMARY.get(gene_symbol, None)\n",
    "    if gene_id is None:\n",
    "        gene_id = HGNC_ALIAS.get(gene_symbol, None)\n",
    "    if gene_id is None:\n",
    "        gene_id=f\"unidentified.symbol:{gene_symbol}\"\n",
    "    location = models.GeneLocation(\n",
    "        gene_id=gene_id,\n",
    "        interval=models.UndefinedInterval()\n",
    "    )\n",
    "    return location\n",
    "\n",
    "def fusion_to_gene_locations(fusion_token):\n",
    "    try:\n",
    "        locations = [\n",
    "            construct_VRS_gene_location( fusion_token.groupdict['five_p_gene'] ),\n",
    "            construct_VRS_gene_location( fusion_token.groupdict['three_p_gene'] ),\n",
    "        ]\n",
    "    except KeyError:\n",
    "        return []\n",
    "    return locations\n",
    "    \n",
    "def del_to_region_location(del_token):\n",
    "    l = construct_VRS_chromosome_location(\n",
    "        chromosome=del_token.groupdict['del_chr'],\n",
    "        start=del_token.groupdict['del_region_start'],\n",
    "        end=del_token.groupdict['del_region_stop']\n",
    "    )\n",
    "    return l\n",
    "\n",
    "def chr_amp_to_region_location(chr_amp_token):\n",
    "    v = chr_amp_token.value\n",
    "    interval = models.NamedInterval(start='pter', end='qter')\n",
    "    location = models.ChromosomeLocation(\n",
    "        species_id=\"taxonomy:9606\",\n",
    "        interval=interval,\n",
    "        chr=v[1:]\n",
    "    )\n",
    "    return location\n",
    "    \n",
    "def translocation_to_region_locations(trx_token):\n",
    "    locations = [(\n",
    "        construct_VRS_chromosome_location(\n",
    "            chromosome=trx_token.groupdict['chr1'],\n",
    "            start='pter',\n",
    "            end=trx_token.groupdict['band1']),\n",
    "        construct_VRS_chromosome_location(\n",
    "            chromosome=trx_token.groupdict['chr2'],\n",
    "            start=trx_token.groupdict['band2'],\n",
    "            end='qter')\n",
    "        ),(\n",
    "        construct_VRS_chromosome_location(\n",
    "            chromosome=trx_token.groupdict['chr2'],\n",
    "            start='pter',\n",
    "            end=trx_token.groupdict['band2']),\n",
    "        construct_VRS_chromosome_location(\n",
    "            chromosome=trx_token.groupdict['chr1'],\n",
    "            start=trx_token.groupdict['band1'],\n",
    "            end='qter')\n",
    "        )\n",
    "    ]\n",
    "    return locations\n",
    "\n",
    "def dup_to_region_location(dup_token):\n",
    "    location = construct_VRS_chromosome_location(\n",
    "        chromosome=dup_token.groupdict['dup_chr'],\n",
    "        start=dup_token.groupdict['dup_region_start'],\n",
    "        end=dup_token.groupdict['dup_region_stop']\n",
    "    )\n",
    "    return location\n",
    "\n",
    "def index_variant(variant, location, record, variant_index, record_index):\n",
    "    if location is None:\n",
    "        return\n",
    "    l = variant_index.get(location, list())\n",
    "    l.append(variant)\n",
    "    variant_index[location] = l\n",
    "    \n",
    "    l = record_index.get(variant, list())\n",
    "    l.append(record)\n",
    "    record_index[variant] = l"
   ]
  },
  {
   "cell_type": "code",
   "execution_count": 13,
   "metadata": {},
   "outputs": [],
   "source": [
    "atlas_variants = dict()\n",
    "atlas_records = dict()\n",
    "\n",
    "for match in matches:\n",
    "    for token in match['tokens']:\n",
    "        t = token.type\n",
    "        if t == 'GENE_FUSION':\n",
    "            genes = fusion_to_gene_locations(token)\n",
    "            if not genes:\n",
    "                continue\n",
    "            variant = models.LocationJunction(\n",
    "                left=genes[0],\n",
    "                right=genes[1]\n",
    "            )\n",
    "            index_variant(variant, genes[0], match, atlas_variants, atlas_records)\n",
    "            index_variant(variant, genes[1], match, atlas_variants, atlas_records)\n",
    "        elif t == 'REGION_DEL':\n",
    "            location = ( del_to_region_location(token) )\n",
    "            state = models.ChromosomeState(\n",
    "                molecularRegion=None\n",
    "            )\n",
    "            # Molecular Variant\n",
    "            variant = models.Allele(\n",
    "                location=location,\n",
    "                state=state\n",
    "            )\n",
    "            index_variant(variant, location, match, atlas_variants, atlas_records)\n",
    "            # Systemic Variant\n",
    "            state = models.AmbiguousState()\n",
    "            molecular_variation = models.Allele(\n",
    "                location=location,\n",
    "                state=state\n",
    "            )\n",
    "            variant = models.RelativeAbundance(\n",
    "                molecularVariation=molecular_variation,\n",
    "                relativeQuantity='less_than'\n",
    "            )\n",
    "            index_variant(variant, location, match, atlas_variants, atlas_records)\n",
    "        elif t == 'REGION_DUP':\n",
    "            location = ( dup_to_region_location(token) )\n",
    "            # Note: dups (insertions at the original chromosome location) are awkward due to the use of regions as locations.\n",
    "            #   e.g. how to differentiate insertion of Xq11-q44 at Xq11 with and without replacement of Xq11?\n",
    "            #   per ISCN 2016 convention (Section 9.2.9) insertions occur AT a band, no further specificity.\n",
    "            state = models.ChromosomeState(\n",
    "                molecularRegion=location\n",
    "            )\n",
    "            insertion_location=construct_VRS_chromosome_location(location.chr, location.interval.end, location.interval.end)\n",
    "            # Molecular Variant\n",
    "            variant = models.Allele(\n",
    "                location=insertion_location,\n",
    "                state=state\n",
    "            )\n",
    "            index_variant(variant, location, match, atlas_variants, atlas_records)\n",
    "            # Systemic Variant\n",
    "            state = models.AmbiguousState()\n",
    "            molecular_variation = models.Allele(\n",
    "                location=location,\n",
    "                state=state\n",
    "            )\n",
    "            variant = models.RelativeAbundance(\n",
    "                molecularVariation=molecular_variation,\n",
    "                relativeQuantity='greater_than'\n",
    "            )\n",
    "            index_variant(variant, location, match, atlas_variants, atlas_records)\n",
    "        elif t == 'CHR_AMP':\n",
    "            location = chr_amp_to_region_location(token)\n",
    "            state=models.AmbiguousState()\n",
    "            molecular_variation = models.Allele(\n",
    "                location=location,\n",
    "                state=state\n",
    "            )\n",
    "            variant = models.RelativeAbundance(\n",
    "                molecularVariation=molecular_variation,\n",
    "                relativeQuantity='greater_than'\n",
    "            )\n",
    "            index_variant(variant, location, match, atlas_variants, atlas_records)\n",
    "        elif t == 'TRANSLOCATION':\n",
    "            der1_regions, der2_regions = translocation_to_region_locations(token)\n",
    "            # First derived chromosome\n",
    "            der1 = models.LocationJunction(\n",
    "                left=der1_regions[0],\n",
    "                right=der1_regions[1]\n",
    "            )\n",
    "            # Second derived chromosome\n",
    "            der2 = models.LocationJunction(\n",
    "                left=der2_regions[0],\n",
    "                right=der2_regions[1]\n",
    "            )\n",
    "            # Using a VariationSet in lieu of an explicit class for a Molecular Profile\n",
    "            try:\n",
    "                assert hash(der1) != hash(der2)\n",
    "            except AssertionError:\n",
    "                # Example value that triggers this is t(X;X)(p22;p22). Not clear what is meant, skip.\n",
    "                continue\n",
    "            variant = models.VariationSet(\n",
    "                members=[der1, der2]\n",
    "            )\n",
    "            index_variant(variant, location, match, atlas_variants, atlas_records)\n",
    "        elif 'CONTEXT' in t:\n",
    "            continue # ignore context for now\n",
    "        elif t == 'BAND_ONLY':\n",
    "            continue # ignore band only as a variant\n",
    "        else:\n",
    "            raise NotImplementedError(f'Token type {t} not handled.')"
   ]
  },
  {
   "cell_type": "code",
   "execution_count": 14,
   "metadata": {},
   "outputs": [
    {
     "data": {
      "text/plain": [
       "8488"
      ]
     },
     "execution_count": 14,
     "metadata": {},
     "output_type": "execute_result"
    }
   ],
   "source": [
    "len(atlas_variants)"
   ]
  },
  {
   "cell_type": "code",
   "execution_count": 15,
   "metadata": {},
   "outputs": [
    {
     "data": {
      "text/plain": [
       "14213"
      ]
     },
     "execution_count": 15,
     "metadata": {},
     "output_type": "execute_result"
    }
   ],
   "source": [
    "len(atlas_records)"
   ]
  },
  {
   "cell_type": "markdown",
   "metadata": {},
   "source": [
    "## Second, from Project GENIE\n",
    "\n",
    "v8.0 public, downloaded from SAGE: 10.7303/syn22228642\n",
    "\n",
    "### Fusions"
   ]
  },
  {
   "cell_type": "code",
   "execution_count": 16,
   "metadata": {},
   "outputs": [],
   "source": [
    "genie_fusion_samples = dict()\n",
    "genie_sample_fusions = dict()\n",
    "fusion_re = re.compile(r'(\\w+)-(\\w+) fusion')\n",
    "failed = set()\n",
    "evaluated = 0\n",
    "skipped = 0\n",
    "with open('data/genie_8_0_public/data_fusions.txt') as fusion_file:\n",
    "    fusion_reader = csv.DictReader(fusion_file, delimiter='\\t')\n",
    "    for record in fusion_reader:\n",
    "        evaluated += 1\n",
    "        m = fusion_re.match(record['Fusion'])\n",
    "        if m:\n",
    "            left, right = map(construct_VRS_gene_location, m.groups())\n",
    "            if not (left or right):\n",
    "                skipped += 1\n",
    "                continue\n",
    "            variant = models.LocationJunction(\n",
    "                left=left,\n",
    "                right=right\n",
    "            )\n",
    "            s = genie_fusion_samples.get(variant, set())\n",
    "            s.add(record['Tumor_Sample_Barcode'])\n",
    "            genie_fusion_samples[variant] = s\n",
    "            s = genie_sample_fusions.get(record['Tumor_Sample_Barcode'], set())\n",
    "            s.add(variant)\n",
    "            genie_sample_fusions[record['Tumor_Sample_Barcode']] = s\n",
    "        else:\n",
    "            skipped += 1"
   ]
  },
  {
   "cell_type": "code",
   "execution_count": 17,
   "metadata": {},
   "outputs": [
    {
     "name": "stdout",
     "output_type": "stream",
     "text": [
      "Intergenic, 2-partner fusions: 13686 (50.0% of records)\n",
      "Average fusions per sample: 1.15\n"
     ]
    }
   ],
   "source": [
    "print(f'Intergenic, 2-partner fusions: {evaluated - skipped} ({(evaluated - skipped)/evaluated*100:.1f}% of records)')\n",
    "print(f'Average fusions per sample: {sum(map(len, genie_sample_fusions.values())) / len(genie_sample_fusions):.2f}')"
   ]
  },
  {
   "cell_type": "code",
   "execution_count": 18,
   "metadata": {},
   "outputs": [],
   "source": [
    "matched_fusions = dict()\n",
    "for fusion in genie_fusion_samples:\n",
    "    matches = set()\n",
    "    if fusion.left:\n",
    "        for variant in atlas_variants.get(fusion.left, []):\n",
    "            if variant.type!=fusion.type:\n",
    "                continue\n",
    "            if variant.left != fusion.left:\n",
    "                continue\n",
    "            if variant.right is None or variant.right == fusion.right:\n",
    "                matches.add(variant)\n",
    "    if fusion.right:\n",
    "        for variant in atlas_variants.get(fusion.right, []):\n",
    "            if variant.type!=fusion.type:\n",
    "                continue\n",
    "            if variant.right != fusion.right:\n",
    "                continue\n",
    "            if variant.left is None or variant.left == fusion.left:\n",
    "                matches.add(variant)\n",
    "    if matches:\n",
    "        matched_fusions[fusion] = matches"
   ]
  },
  {
   "cell_type": "code",
   "execution_count": 19,
   "metadata": {},
   "outputs": [
    {
     "name": "stdout",
     "output_type": "stream",
     "text": [
      "245 of 4241 (5.8%) fusions with matches to Atlas.\n",
      "1186 of 5876 (20.2%) samples with fusion matches to Atlas.\n"
     ]
    }
   ],
   "source": [
    "print(f'{len(matched_fusions)} of {len(genie_fusion_samples)} ({len(matched_fusions) / len(genie_fusion_samples) * 100:.1f}%) fusions with matches to Atlas.')\n",
    "samples = len(genie_sample_fusions)\n",
    "matched_samples = set()\n",
    "for fusion in matched_fusions:\n",
    "    matched_samples.update(genie_fusion_samples[fusion])\n",
    "print(f'{len(matched_samples)} of {samples} ({len(matched_samples) / samples * 100:.1f}%) samples with fusion matches to Atlas.')"
   ]
  },
  {
   "cell_type": "code",
   "execution_count": 20,
   "metadata": {},
   "outputs": [],
   "source": [
    "from datetime import date\n",
    "\n",
    "genie_license = {\n",
    "    'resource': 'AACR Project GENIE',\n",
    "    'data_use_conditions_url': 'https://www.aacr.org/wp-content/uploads/2020/02/20200127_GENIE_Data_Guide_7.pdf'\n",
    "}\n",
    "\n",
    "atlas_license = {\n",
    "    'resource': 'Atlas of Genetics and Cytogenetics in Oncology and Haematology',\n",
    "    'cc_license': 'CC BY-NC-ND 2.0 FR',\n",
    "    'cc_license_url': 'https://creativecommons.org/licenses/by-nc-nd/2.0/fr/deed.en',\n",
    "    'data_use_conditions_url': 'http://atlasgeneticsoncology.org/BackpageAbout.html#COPYRIGHT'\n",
    "}\n",
    "\n",
    "genie_version = 'v8.0_public'\n",
    "atlas_version = date(day=14, month=7, year=2020).isoformat()\n",
    "vrs_version = '1.x.prototype'\n",
    "vrs_warning = 'This dataset structures variants using an unofficial, prototype VRS build'\n",
    "\n",
    "_meta = {\n",
    "    'warning': vrs_warning,\n",
    "    'data_licenses': {\n",
    "        'genie': genie_license,\n",
    "        'atlas': atlas_license\n",
    "    },\n",
    "    'versions': {\n",
    "        'vrs_version': vrs_version,\n",
    "        'genie_version': genie_version,\n",
    "        'atlas_version': atlas_version\n",
    "    },\n",
    "}\n",
    "\n",
    "import logging\n",
    "logger = logging.getLogger()\n",
    "logger.setLevel(logging.INFO)\n",
    "\n",
    "def uniqify_and_clean(records):\n",
    "    #  Somewhere I'm double-registering records to variants.\n",
    "    #    I expect that this is caused by records appearing on two pages corresponding\n",
    "    #    to the two constituent chromsomal regions of each translocation.\n",
    "    #    This is a hack to uniqify records.\n",
    "    #    TODO: Fix double-registering bug\n",
    "    logging.debug(f'records: {records}')\n",
    "    out = list()\n",
    "    observed_record_hashes = set()\n",
    "    for record in records:\n",
    "        h = hash(json.dumps(record))\n",
    "        if h in observed_record_hashes:\n",
    "            continue\n",
    "        else:\n",
    "            observed_record_hashes.add(h)\n",
    "            if 'tokens' in record:\n",
    "                del record['tokens']\n",
    "            out.append(record)\n",
    "    return out\n",
    "\n",
    "records = list()\n",
    "for fusion in matched_fusions:\n",
    "    annotations = list()\n",
    "    for matched_fusion in matched_fusions[fusion]:\n",
    "        annotations.extend(atlas_records[matched_fusion])\n",
    "    annotations = uniqify_and_clean(annotations)\n",
    "    record = {\n",
    "        'genie_fusion': ga4gh_identify(fusion),\n",
    "        'genie_samples': list(genie_fusion_samples[fusion]),\n",
    "        'atlas_fusion': ga4gh_identify(matched_fusion),\n",
    "        'atlas_annotations': annotations\n",
    "    }\n",
    "    records.append(record)\n",
    "genie_fusions = {\n",
    "    '_meta': _meta,\n",
    "    'records': records,\n",
    "    'total': len(records)\n",
    "}\n",
    "\n",
    "with open('out/genie_fusions.json', 'w') as f:\n",
    "    json.dump(genie_fusions, f)"
   ]
  },
  {
   "cell_type": "markdown",
   "metadata": {},
   "source": [
    "### Questions\n",
    "Which fusions are most frequently seen?"
   ]
  },
  {
   "cell_type": "markdown",
   "metadata": {},
   "source": [
    "### Copy Number\n",
    "\n",
    "For each gene-sample combination, a copy number level is specified:\n",
    "- \"-2\" is a deep loss, possibly a homozygous deletion\n",
    "- \"-1\" is a single-copy loss (heterozygous deletion)\n",
    "- \"0\" is diploid\n",
    "- \"1\" indicates a low-level gain\n",
    "- \"2\" is a high-level amplification."
   ]
  },
  {
   "cell_type": "code",
   "execution_count": 21,
   "metadata": {},
   "outputs": [],
   "source": [
    "from collections import defaultdict\n",
    "\n",
    "genie_cna_samples = defaultdict(set)\n",
    "genie_sample_cnas = defaultdict(set)\n",
    "evaluated_genes = 0\n",
    "skipped_genes = set()\n",
    "with open('data/genie_8_0_public/data_CNA.txt') as cna_file:\n",
    "    cna_reader = csv.DictReader(cna_file, delimiter='\\t')\n",
    "    for gene_cna in cna_reader:\n",
    "        evaluated_genes += 1\n",
    "        gene_symbol = gene_cna.pop('Hugo_Symbol')\n",
    "        gene_location = construct_VRS_gene_location(gene_symbol)\n",
    "        if not str(gene_location.gene_id).startswith('hgnc'):\n",
    "            skipped_genes.add(gene_symbol)\n",
    "            continue\n",
    "        molecular_variation = models.Allele(\n",
    "            location=gene_location,\n",
    "            state=models.AmbiguousState()\n",
    "        )\n",
    "        gt_variant = models.RelativeAbundance(\n",
    "            molecularVariation=molecular_variation,\n",
    "            relativeQuantity='greater_than'\n",
    "        )\n",
    "#         eq_variant = models.RelativeAbundance(\n",
    "#             molecularVariation=molecular_variation,\n",
    "#             relativeQuantity='equal_to'\n",
    "#         )\n",
    "        lt_variant = models.RelativeAbundance(\n",
    "            molecularVariation=molecular_variation,\n",
    "            relativeQuantity='less_than'\n",
    "        )\n",
    "        for sample, cna in gene_cna.items():\n",
    "            if cna == 'NA':\n",
    "                continue\n",
    "            cna = float(cna)\n",
    "            if cna == 0:\n",
    "                continue # Only evaluate CN gain / loss\n",
    "#                 genie_cna_samples[eq_variant].add(sample)\n",
    "#                 genie_sample_cnas[sample].add(eq_variant)\n",
    "            elif cna > 0:\n",
    "                genie_cna_samples[gt_variant].add(sample)\n",
    "                genie_sample_cnas[sample].add(gt_variant)\n",
    "            elif cna < 0:\n",
    "                genie_cna_samples[lt_variant].add(sample)\n",
    "                genie_sample_cnas[sample].add(gt_variant)\n",
    "\n",
    "genie_cna_samples = dict(genie_cna_samples)\n",
    "genie_sample_cnas = dict(genie_sample_cnas)"
   ]
  },
  {
   "cell_type": "code",
   "execution_count": 22,
   "metadata": {},
   "outputs": [
    {
     "name": "stdout",
     "output_type": "stream",
     "text": [
      "Valid genes: 930 (100.0% of all genes)\n",
      "Samples with gene CNAs: 40812 (59.2% of 68996 samples)\n",
      "Average gene CNAs per sample: 29.44\n"
     ]
    }
   ],
   "source": [
    "valid_genes = evaluated_genes - len(skipped_genes)\n",
    "total_samples = len(cna_reader.fieldnames) - 1\n",
    "cna_samples = len(genie_sample_cnas)\n",
    "\n",
    "print(f'Valid genes: {valid_genes} ({valid_genes/evaluated_genes*100:.1f}% of all genes)')\n",
    "print(f'Samples with gene CNAs: {cna_samples} ({cna_samples/total_samples*100:.1f}% of {total_samples} samples)')\n",
    "print(f'Average gene CNAs per sample: {sum(map(len, genie_sample_cnas.values())) / len(genie_sample_cnas):.2f}')"
   ]
  },
  {
   "cell_type": "code",
   "execution_count": 23,
   "metadata": {},
   "outputs": [],
   "source": [
    "# Translate to focal CNA\n",
    "\n",
    "gene_to_focal_cna = dict()\n",
    "\n",
    "for gene_cna, s in genie_cna_samples.items():\n",
    "    gene_id = str(gene_cna.molecularVariation.location.gene_id)\n",
    "    try:\n",
    "        focal_location = HGNC_CHR_LOC[gene_id]\n",
    "    except KeyError:\n",
    "        gene_to_focal_cna[gene_cna] = None\n",
    "        continue\n",
    "    molecular_variation = models.Allele(\n",
    "        location=focal_location,\n",
    "        state=models.AmbiguousState()\n",
    "    )\n",
    "    focal_cna = models.RelativeAbundance(\n",
    "        molecularVariation=molecular_variation,\n",
    "        relativeQuantity=gene_cna.relativeQuantity\n",
    "    )\n",
    "    gene_to_focal_cna[gene_cna] = focal_cna"
   ]
  },
  {
   "cell_type": "code",
   "execution_count": 24,
   "metadata": {},
   "outputs": [],
   "source": [
    "# Search\n",
    "\n",
    "band_re = re.compile(r'[pq](ter|\\d\\d(.\\d+)?)')\n",
    "\n",
    "def band_comp(l_input, r_input, mode):\n",
    "    # default mode, le\n",
    "    if mode == 'le':\n",
    "        left = str(l_input)\n",
    "        right = str(r_input)\n",
    "    elif mode == 'ge':\n",
    "        right = str(l_input)\n",
    "        left = str(r_input)\n",
    "    else:\n",
    "        raise ValueError\n",
    "    assert band_re.fullmatch(left) and band_re.fullmatch(right)\n",
    "    if left == 'pter' or right == 'qter':\n",
    "        return True\n",
    "    elif left == 'qter' or right == 'pter':\n",
    "        return False\n",
    "    comp_len = min(len(left), len(right))\n",
    "    left = left[:comp_len]\n",
    "    right = right[:comp_len]\n",
    "    if left == right:\n",
    "        return True\n",
    "    if left[0] == 'p':\n",
    "        if right[0] == 'q':\n",
    "            return True\n",
    "        else:\n",
    "            right_temp = right\n",
    "            right = left\n",
    "            left = right_temp\n",
    "    for i in range(comp_len):\n",
    "        if left[i] > right[i]:\n",
    "            return False\n",
    "        elif left[i] < right[i]:\n",
    "            return True\n",
    "    return True\n",
    "\n",
    "assert band_comp('p11', 'q11', 'le') is True\n",
    "assert band_comp('p11', 'q11', 'ge') is False\n",
    "assert band_comp('p31', 'p11', 'le') is True\n",
    "assert band_comp('p11', 'p31', 'le') is False\n",
    "assert band_comp('p31', 'p11', 'ge') is False\n",
    "assert band_comp('p11', 'p31', 'ge') is True\n",
    "assert band_comp('p11.1', 'p11', 'le') is True # Subbands always compare True to parent bands\n",
    "assert band_comp('p11.1', 'p11', 'ge') is True\n",
    "assert band_comp('p11', 'p11.1', 'le') is True\n",
    "assert band_comp('p11.1', 'p11.1', 'ge') is True\n",
    "\n",
    "matched_cnas = dict()\n",
    "for gene_cna in genie_cna_samples:\n",
    "    focal_cna = gene_to_focal_cna[gene_cna]\n",
    "    if focal_cna is None:\n",
    "        continue\n",
    "    \n",
    "    # Brute force search – slow, but quick to implement.\n",
    "    #   For this size search space, completes in reasonable time.\n",
    "    matches = set()\n",
    "    for atlas_variant in atlas_records:\n",
    "        if atlas_variant.type != 'RelativeAbundance':\n",
    "            continue\n",
    "        if focal_cna.relativeQuantity != atlas_variant.relativeQuantity:\n",
    "            continue\n",
    "        genie_loc = focal_cna.molecularVariation.location\n",
    "        atlas_loc = atlas_variant.molecularVariation.location\n",
    "        # ignore multi-band amplifications\n",
    "        if atlas_loc.interval.start[:3] !=  atlas_loc.interval.end[:3]:\n",
    "            continue\n",
    "        if genie_loc.chr != atlas_loc.chr:\n",
    "            continue\n",
    "        if not band_comp(genie_loc.interval.start, atlas_loc.interval.start, 'ge'):\n",
    "            continue\n",
    "        if not band_comp(genie_loc.interval.end, atlas_loc.interval.end, 'le'):\n",
    "            continue\n",
    "        matches.add(atlas_variant)\n",
    "    if matches:\n",
    "        matched_cnas[gene_cna] = matches"
   ]
  },
  {
   "cell_type": "code",
   "execution_count": 25,
   "metadata": {},
   "outputs": [
    {
     "name": "stdout",
     "output_type": "stream",
     "text": [
      "385 of 1756 (21.9%) gene CNAs with matches to Atlas.\n",
      "26219 of 40812 (64.2%) samples with gene CNA matches to Atlas.\n"
     ]
    }
   ],
   "source": [
    "print(f'{len(matched_cnas)} of {len(genie_cna_samples)} ({len(matched_cnas) / len(genie_cna_samples) * 100:.1f}%) gene CNAs with matches to Atlas.')\n",
    "samples = len(genie_sample_cnas)\n",
    "matched_samples = set()\n",
    "for cna in matched_cnas:\n",
    "    matched_samples.update(genie_cna_samples[cna])\n",
    "print(f'{len(matched_samples)} of {samples} ({len(matched_samples) / samples * 100:.1f}%) samples with gene CNA matches to Atlas.')"
   ]
  },
  {
   "cell_type": "code",
   "execution_count": 26,
   "metadata": {},
   "outputs": [],
   "source": [
    "for cna in matched_cnas:\n",
    "    annotations = list()\n",
    "    for matched_cna in matched_cnas[cna]:\n",
    "        annotations.extend(atlas_records[matched_cna])\n",
    "    annotations = uniqify_and_clean(annotations)\n",
    "    record = {\n",
    "        'genie_cna': ga4gh_identify(cna),\n",
    "        'genie_samples': list(genie_cna_samples[cna]),\n",
    "        'atlas_fusion': ga4gh_identify(matched_cna),\n",
    "        'atlas_annotations': annotations\n",
    "    }\n",
    "    records.append(record)\n",
    "genie_cnas = {\n",
    "    '_meta': _meta,\n",
    "    'records': records,\n",
    "    'total': len(records)\n",
    "}\n",
    "\n",
    "with open('out/genie_cnas.json', 'w') as f:\n",
    "    json.dump(genie_cnas, f)"
   ]
  },
  {
   "cell_type": "code",
   "execution_count": 31,
   "metadata": {},
   "outputs": [],
   "source": [
    "variant_records = dict()\n",
    "for k, v in atlas_records.items():\n",
    "    variant_records[ga4gh_identify(k)] = uniqify_and_clean(v)"
   ]
  },
  {
   "cell_type": "code",
   "execution_count": 32,
   "metadata": {},
   "outputs": [],
   "source": [
    "_meta = {\n",
    "    'warning': vrs_warning,\n",
    "    'data_licenses': {\n",
    "        'atlas': atlas_license\n",
    "    },\n",
    "    'versions': {\n",
    "        'vrs_version': vrs_version,\n",
    "        'atlas_version': atlas_version\n",
    "    },\n",
    "}\n",
    "\n",
    "atlas_variant_records = {\n",
    "    '_meta': _meta,\n",
    "    'atlas_variant_annotations': variant_records,\n",
    "    'total_variants': len(variant_records)\n",
    "}\n",
    "\n",
    "with open('out/atlas_variant_annotations.json', 'w') as f:\n",
    "    json.dump(atlas_variant_records, f)"
   ]
  },
  {
   "cell_type": "code",
   "execution_count": 33,
   "metadata": {},
   "outputs": [],
   "source": [
    "vrs_objects = list(set(genie_cna_samples) | set(atlas_records) | set(genie_fusion_samples))\n",
    "errors = set()\n",
    "for variation in vrs_objects:\n",
    "    if variation._id is None:\n",
    "        try:\n",
    "            variation._id = ga4gh_identify(variation)\n",
    "        except KeyError as e:\n",
    "            errors.add(str(e))"
   ]
  },
  {
   "cell_type": "code",
   "execution_count": 34,
   "metadata": {},
   "outputs": [],
   "source": [
    "from operator import attrgetter\n",
    "sorted_objects = list()\n",
    "for variation in sorted(vrs_objects, key=lambda x: str(x._id)):\n",
    "    sorted_objects.append(variation.for_json())\n",
    "with open('out/vrs_records.json', 'w') as f:\n",
    "    json.dump(sorted_objects, f)"
   ]
  },
  {
   "cell_type": "markdown",
   "metadata": {},
   "source": [
    "### Questions\n",
    "Which CNAs are most frequently seen?"
   ]
  }
 ],
 "metadata": {
  "kernelspec": {
   "display_name": "Python 3",
   "language": "python",
   "name": "python3"
  },
  "language_info": {
   "codemirror_mode": {
    "name": "ipython",
    "version": 3
   },
   "file_extension": ".py",
   "mimetype": "text/x-python",
   "name": "python",
   "nbconvert_exporter": "python",
   "pygments_lexer": "ipython3",
   "version": "3.8.3"
  }
 },
 "nbformat": 4,
 "nbformat_minor": 4
}
